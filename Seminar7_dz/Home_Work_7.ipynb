{
 "cells": [
  {
   "cell_type": "markdown",
   "id": "e99137a2",
   "metadata": {},
   "source": [
    "## Урок 7. Нестандартные ситуации"
   ]
  },
  {
   "cell_type": "markdown",
   "id": "15b8882d",
   "metadata": {},
   "source": [
    "### На основе выбранных продуктов из первого вебинара, выберите 2 A/B-теста и составьте план эксперимента, чтобы избежать Peeking Problem \n",
    "### Распишите, какие метрики и как вы будете анализировать"
   ]
  },
  {
   "cell_type": "markdown",
   "id": "22c414fd",
   "metadata": {},
   "source": [
    "Peeking Problem - (проблема подглядывания) проявляется, когда вы проверяете промежуточные результаты с готовностью принять решение: раскатить одну из версий, если различие между тестом и контролем окажется значимым .\n",
    "Это может привести к двум типам последствий:\n",
    "1) Преждевременно законченный тест - не валидные результаты.  \n",
    "2) Продолжение теста в ожидании стат значимости - шанс потратить деньги и время компании не получив результата."
   ]
  },
  {
   "cell_type": "markdown",
   "id": "3e5cd835",
   "metadata": {},
   "source": [
    "Выбор продукта - wildberries.ru."
   ]
  },
  {
   "cell_type": "markdown",
   "id": "7b48f55c",
   "metadata": {},
   "source": [
    "**А/В тесты:**  \n",
    "1. Если каждому клиенту предоставлять накопительные баллы в зависимости от суммы покупок, то Churn-rate уменьшится, а LTV повысится.  \n",
    "2. Если продавцы будут предоставлять более качественные фото товаров, то Churn-rate также уменьшится, а CR увеличится."
   ]
  },
  {
   "cell_type": "markdown",
   "id": "b9b9b9e7",
   "metadata": {},
   "source": [
    "**Ключевые метрики:**  \n",
    "\n",
    "1. LTV - доход, который клиент принёс компании за всё время взаимодействия с ней;  \n",
    "2. AOV - средний чек;  \n",
    "3. CR - конверсия в покупку;  \n",
    "4. Churn-rate - количество отказов."
   ]
  },
  {
   "cell_type": "code",
   "execution_count": 1,
   "id": "d4703e4e",
   "metadata": {},
   "outputs": [],
   "source": [
    "from statsmodels.stats.power import tt_ind_solve_power, zt_ind_solve_power\n",
    "from statsmodels.stats.proportion import proportion_effectsize\n",
    "from statsmodels.stats.meta_analysis import effectsize_smd\n",
    "from typing import Union\n",
    "import plotly.graph_objects as go\n",
    "from scipy import stats\n",
    "from math import asin\n",
    "import numpy as np"
   ]
  },
  {
   "cell_type": "code",
   "execution_count": 2,
   "id": "573f803b",
   "metadata": {},
   "outputs": [],
   "source": [
    "def calc_continuous_effect_size(mean_1: Union[float, int],\n",
    "                                std_1: Union[float, int],\n",
    "                                mean_2: Union[float, int],\n",
    "                                std_2: Union[float, int],\n",
    "                                nobs_1: int = 10_000,\n",
    "                                nobs_2: int = 10_000):\n",
    "    \n",
    "    es_formula = (mean_1 - mean_2) / ((std_1**2 + std_2**2) / 2) ** 0.5\n",
    "    es_import = effectsize_smd(mean_1, std_1, nobs_1, mean_2, std_2, nobs_2)[0]\n",
    "    \n",
    "    return es_formula, es_import "
   ]
  },
  {
   "cell_type": "code",
   "execution_count": 3,
   "id": "91ef7d42",
   "metadata": {},
   "outputs": [],
   "source": [
    "def calc_sample_size_continuous(effect_size: float,\n",
    "                                alpha: float = .05,\n",
    "                                beta: float = .2,\n",
    "                                ratio: Union[float, int] = 1):\n",
    "    \n",
    "    n = tt_ind_solve_power(effect_size=effect_size,\n",
    "                           alpha=alpha,\n",
    "                           power=(1 - beta),\n",
    "                           ratio=ratio,\n",
    "                  )\n",
    "    return int(n * 2)"
   ]
  },
  {
   "cell_type": "code",
   "execution_count": 4,
   "id": "b55211a6",
   "metadata": {},
   "outputs": [
    {
     "data": {
      "text/plain": [
       "(-0.018, -0.017999324924053955)"
      ]
     },
     "execution_count": 4,
     "metadata": {},
     "output_type": "execute_result"
    }
   ],
   "source": [
    "mu_control, mu_test = 4.2, 4.83\n",
    "std_control, std_test = 35, 35 #* 1.15\n",
    "\n",
    "calc_continuous_effect_size(mean_1=mu_control, std_1=std_control, mean_2=mu_test, std_2=std_test)"
   ]
  },
  {
   "cell_type": "code",
   "execution_count": 5,
   "id": "84dab426",
   "metadata": {},
   "outputs": [
    {
     "name": "stdout",
     "output_type": "stream",
     "text": [
      "Общий размер выборки 96908 человек.\n"
     ]
    }
   ],
   "source": [
    "effect_size = calc_continuous_effect_size(mean_1=mu_control, std_1=std_control, mean_2=mu_test, std_2=std_test)[1]\n",
    "selection = calc_sample_size_continuous(effect_size=effect_size, alpha=.05, beta=.2)\n",
    "\n",
    "print(f\"Общий размер выборки {selection} человек.\")"
   ]
  },
  {
   "cell_type": "code",
   "execution_count": 6,
   "id": "6872008f",
   "metadata": {},
   "outputs": [
    {
     "name": "stdout",
     "output_type": "stream",
     "text": [
      "Необходимо провести эксперимент в течение 4.8454 дней\n"
     ]
    }
   ],
   "source": [
    "days = selection/20000\n",
    "\n",
    "print(f\"Необходимо провести эксперимент в течение {days} дней\")"
   ]
  },
  {
   "cell_type": "markdown",
   "id": "e0ed3284",
   "metadata": {},
   "source": [
    "Данные 4.8454 дней округляем в большую сторону ~ 5 дней."
   ]
  },
  {
   "cell_type": "markdown",
   "id": "7950fb84",
   "metadata": {},
   "source": [
    "### Шаблон дизайна эксперимента №1."
   ]
  },
  {
   "cell_type": "markdown",
   "id": "9795324f",
   "metadata": {},
   "source": [
    "**Гипотеза:**  \n",
    "1. Если каждому клиенту предоставлять накопительные баллы 10% в зависимости от суммы покупок, то AOV=4,2 т.р повысится на 15%, потому что клиенты будут стараться накопить баллы, и будут совершать больше покупок.  \n",
    "2. А Churn-rate (отказы) уменьшится на 10%, потому что клиенты будут стараться накопить баллы, и реализовать их, более тщательно выбирать товары.  \n",
    "  \n",
    "**Что делаем:**\n",
    "1. Контрольная версия: контрольной группе не начисляют накопительные баллы.  \n",
    "2. Тестовая версия: тестовой группе начисляют 10% баллов от покупки.  \n",
    "  \n",
    "**На каких пользователях тестируем:**  \n",
    "* Тестируем на 20 000 клиентах маркетплейса wildberries.ru, 2 группы по 10 000 клиентов в каждой.  \n",
    "  \n",
    "**Метрики:**  \n",
    "1. LTV - доход, который клиент принёс компании за всё время взаимодействия с ней.  \n",
    "2. Churn-rate - количество отказов.  \n",
    "  \n",
    "**План действий:**  \n",
    "1. Если наш эксперимент будет положительным и мы зафиксируем ожидаемое увеличение LTV и уменьшение Churn-rate, то масштабируем изменение и «выкатываем» его на всех пользователей.  \n",
    "2. Если LTV падает и/или Churn-rate растет, откатываем эксперимент.  \n",
    "  \n",
    "**Избежать Peeking Problem:**  \n",
    "1. Правильно рассчитываем длительность теста и придерживаться сроков, которые вы посчитали.  \n",
    "2. Мониторить промежуточные результаты эксперимента можно и нужно, но принимать решения на основе неполных данных нельзя."
   ]
  },
  {
   "cell_type": "markdown",
   "id": "6439909d",
   "metadata": {},
   "source": [
    "### Шаблон дизайна эксперимента №2."
   ]
  },
  {
   "cell_type": "markdown",
   "id": "cad59c87",
   "metadata": {},
   "source": [
    "**Гипотеза:**  \n",
    "1. Если продавцы будут предоставлять более качественные детализированные фото товаров, то CR увеличится на 5%, потому что клиенты могут рассмотреть фото товара в деталях, и выбрать нужный товар, а не пролистнуть дальше.  \n",
    "2. Churn-rate уменьшится на 10%, потому что яркие, светлые, качественные фото товара, привлекают и стимулируют клиента к покупке.  \n",
    "  \n",
    "**Что делаем:**  \n",
    "1. Контрольная версия: контрольной группе оставляем фото в карточках как было.  \n",
    "2. Тестовая версия: тестовой группе показываем карточки с более качественными и яркими фото.  \n",
    "  \n",
    "**На каких пользователях тестируем:**  \n",
    "* Тестируем на 20 000 клиентах маркетплейса wildberries.ru, 2 группы по 10 000 клиентов в каждой.  \n",
    "  \n",
    "**Метрики:**  \n",
    "1. CR - конверсия в покупку;  \n",
    "2. Churn-rate - количество отказов.  \n",
    "  \n",
    "**План действий:**  \n",
    "1. Если наш эксперимент будет положительным и мы зафиксируем ожидаемое увеличение CR и уменьшение Churn-rate, то масштабируем изменение и «выкатываем» его на всех пользователей.  \n",
    "2. Если CR падает и/или Churn-rate растет, откатываем эксперимент.  \n",
    "  \n",
    "**Избежать Peeking Problem:**  \n",
    "1. Правильно рассчитываем длительность теста и придерживаться сроков, которые вы посчитали.  \n",
    "2. Мониторить промежуточные результаты эксперимента можно и нужно, но принимать решения на основе неполных данных нельзя."
   ]
  }
 ],
 "metadata": {
  "kernelspec": {
   "display_name": "Python 3 (ipykernel)",
   "language": "python",
   "name": "python3"
  },
  "language_info": {
   "codemirror_mode": {
    "name": "ipython",
    "version": 3
   },
   "file_extension": ".py",
   "mimetype": "text/x-python",
   "name": "python",
   "nbconvert_exporter": "python",
   "pygments_lexer": "ipython3",
   "version": "3.11.4"
  }
 },
 "nbformat": 4,
 "nbformat_minor": 5
}
